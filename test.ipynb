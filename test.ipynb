{
 "cells": [
  {
   "cell_type": "code",
   "execution_count": 5,
   "id": "249902b8",
   "metadata": {},
   "outputs": [
    {
     "name": "stdout",
     "output_type": "stream",
     "text": [
      "Real part: -6.513146\n",
      "Imaginary part: -18.942048\n"
     ]
    }
   ],
   "source": [
    "import cmath\n",
    "import math\n",
    "\n",
    "s = -0.05\n",
    "w = 10.0\n",
    "a = 2.0\n",
    "h = 1.9\n",
    "\n",
    "i = -a/2 * (cmath.exp(1j * h) / (s + 2j * w) + cmath.exp(-1j * h) / s)\n",
    "real = i.real\n",
    "imag = i.imag\n",
    "print(f\"Real part: {real:.6f}\")\n",
    "print(f\"Imaginary part: {imag:.6f}\")"
   ]
  },
  {
   "cell_type": "code",
   "execution_count": 6,
   "id": "d9e22919",
   "metadata": {},
   "outputs": [
    {
     "name": "stdout",
     "output_type": "stream",
     "text": [
      "Estimated a: 2.000000\n"
     ]
    }
   ],
   "source": [
    "a_est = abs(s) / w**2 * math.sqrt(w**2 * (2 * w * real + s * imag) ** 2 + (s * w * real + imag * (s ** 2 + 2 * w ** 2)) ** 2)\n",
    "print(f\"Estimated a: {a_est:.6f}\")"
   ]
  },
  {
   "cell_type": "code",
   "execution_count": 7,
   "id": "b8ae21d7",
   "metadata": {},
   "outputs": [
    {
     "name": "stdout",
     "output_type": "stream",
     "text": [
      "Estimated a (method 2): 2.000000\n"
     ]
    }
   ],
   "source": [
    "r = s / w\n",
    "a_est2 = abs(s) * math.sqrt((2 * real + imag * r) ** 2 + (real * r + imag * (r ** 2 + 2)) ** 2)\n",
    "print(f\"Estimated a (method 2): {a_est2:.6f}\")"
   ]
  },
  {
   "cell_type": "code",
   "execution_count": 6,
   "id": "af51af08",
   "metadata": {},
   "outputs": [
    {
     "name": "stdout",
     "output_type": "stream",
     "text": [
      "[['昭和60年', '10101'], ['昭和61年', '01101'], ['昭和62年', '11101'], ['昭和63年', '00011'], ['昭和64年', '10011'], ['昭和65年', '01011'], ['昭和66年', '10001'], ['昭和67年', '01001'], ['昭和68年', '11001'], ['昭和69年', '00101']]\n",
      "\"10101\",\n",
      "\"01101\",\n",
      "\"11101\",\n",
      "\"00011\",\n",
      "\"10011\",\n",
      "\"01011\",\n",
      "\"10001\",\n",
      "\"01001\",\n",
      "\"11001\",\n",
      "\"00101\",\n"
     ]
    }
   ],
   "source": [
    "# 符号の変換\n",
    "\n",
    "code = \"\"\"\n",
    "昭和60年\n",
    "1\n",
    "0\n",
    "1\n",
    "0\n",
    "1\n",
    "昭和61年\n",
    "0\n",
    "1\n",
    "1\n",
    "0\n",
    "1\n",
    "昭和62年\n",
    "1\n",
    "1\n",
    "1\n",
    "0\n",
    "1\n",
    "昭和63年\n",
    "0\n",
    "0\n",
    "0\n",
    "1\n",
    "1\n",
    "昭和64年\n",
    "1\n",
    "0\n",
    "0\n",
    "1\n",
    "1\n",
    "昭和65年\n",
    "0\n",
    "1\n",
    "0\n",
    "1\n",
    "1\n",
    "昭和66年\n",
    "1\n",
    "0\n",
    "0\n",
    "0\n",
    "1\n",
    "昭和67年\n",
    "0\n",
    "1\n",
    "0\n",
    "0\n",
    "1\n",
    "昭和68年\n",
    "1\n",
    "1\n",
    "0\n",
    "0\n",
    "1\n",
    "昭和69年\n",
    "0\n",
    "0\n",
    "1\n",
    "0\n",
    "1\"\"\"\n",
    "lines = []\n",
    "for line in code.strip().split('\\n'):\n",
    "    if line not in ('0', '1'):\n",
    "        lines.append([line, \"\"])\n",
    "    else:\n",
    "        lines[-1][-1] += line\n",
    "print(lines)\n",
    "\n",
    "# for v, k in lines: \n",
    "#     print(f\"\\\"{k}\\\": \\\"{v}\\\",\")\n",
    "for _, k in lines:\n",
    "    print(f\"\\\"{k}\\\",\")"
   ]
  },
  {
   "cell_type": "code",
   "execution_count": 47,
   "id": "fa1604cb",
   "metadata": {},
   "outputs": [],
   "source": [
    "data = []\n",
    "with open(\"signal_data.txt\", \"r\") as f:\n",
    "    for line in f:\n",
    "        line_data = list(map(int, line.strip().split(\" \")[1:]))\n",
    "        data.append(line_data[:min(len(line_data), 1)])"
   ]
  },
  {
   "cell_type": "code",
   "execution_count": 49,
   "id": "81c3d0c2",
   "metadata": {},
   "outputs": [
    {
     "name": "stdout",
     "output_type": "stream",
     "text": [
      "11245\n"
     ]
    }
   ],
   "source": [
    "first_idx = 0\n",
    "run_length = [0] * 2\n",
    "for idx, i in enumerate(data):\n",
    "    for j in range(2):\n",
    "        if j in i:\n",
    "            run_length[j] += 1\n",
    "        else:\n",
    "            run_length[j] = 0\n",
    "    if max(run_length) >= 3:\n",
    "        first_idx = idx - max(run_length) + 1\n",
    "        break\n",
    "\n",
    "print(first_idx)"
   ]
  },
  {
   "cell_type": "code",
   "execution_count": 51,
   "id": "a10323af",
   "metadata": {},
   "outputs": [
    {
     "name": "stdout",
     "output_type": "stream",
     "text": [
      "962\n",
      "[[1], [1], [1], [1], [1], [1], [1], [1], [1], [1], [1], [1], [1], [1], [1]]\n",
      "[[1], [1], [1], [1], [1], [1], [1], [1], [1], [1], [1], [1], [], [], [1]]\n",
      "[[1], [], [], [], [], [0], [], [0], [0], [0], [0], [0], [0], [0], [0]]\n",
      "[[0], [0], [0], [0], [0], [0], [0], [0], [0], [0], [0], [0], [0], [0], [0]]\n",
      "[[1], [1], [1], [1], [1], [1], [1], [1], [1], [1], [1], [1], [1], [1], [1]]\n",
      "[[1], [1], [1], [1], [1], [1], [1], [1], [1], [1], [1], [1], [1], [1], [1]]\n",
      "[[1], [1], [1], [1], [1], [1], [1], [1], [1], [1], [1], [1], [1], [1], [1]]\n",
      "[[1], [1], [1], [1], [1], [1], [1], [1], [1], [1], [1], [1], [], [], [1]]\n",
      "[[1], [], [], [], [0], [0], [0], [0], [0], [0], [0], [0], [0], [0], [0]]\n",
      "[[0], [0], [0], [0], [0], [0], [0], [0], [0], [0], [0], [0], [0], [0], [0]]\n",
      "...\n",
      "[[0], [0], [0], [0], [0], [0], [0], [0], [0], [0], [0], [0], [0], [0], [0]]\n",
      "[[0], [0], [0], [0], [0], [0], [0], [0], [0], [0], [0], [0], [0], [0], [1]]\n",
      "[[1], [1], [1], [1], [1], [1], [1], [1], [1], [], [], [], [], [0], [0]]\n",
      "[[0], [0], [0], [0], [0], [0], [0], [0], [0], [0], [0], [0], [0], [0], [0]]\n",
      "[[0], [0], [0], [0], [0], [0], [0], [0], [0], [0], [0], [0], [0], [1], [1]]\n",
      "[[1], [1], [1], [1], [1], [1], [1], [1], [1], [], [], [], [], [0], [0]]\n",
      "[[0], [0], [0], [0], [0], [0], [0], [0], [0], [0], [0], [0], [0], [0], [0]]\n",
      "[[0], [0], [0], [0], [0], [0], [0], [0], [0], [0], [0], [0], [0], [0], [0]]\n",
      "[[0], [0], [0], [0], [0], [0], [0], [0], [0], [0], [0], [0], [0], [0], [0]]\n",
      "[[0], [0], [0], [0], [0], [0], [0], [0], [0], [0], [0], [0], [0], [0], [0]]\n"
     ]
    }
   ],
   "source": [
    "chunks = []\n",
    "idx = first_idx\n",
    "chunk_size = 15\n",
    "while True:\n",
    "    chunk = data[idx:idx + chunk_size]\n",
    "    non_empty_count = sum(1 for i in chunk if i)\n",
    "    if non_empty_count < 2:\n",
    "        break\n",
    "    chunks.append(chunk)\n",
    "    idx += chunk_size\n",
    "\n",
    "chunks.pop() # drop the last\n",
    "print(len(chunks))\n",
    "\n",
    "for i in range(10):\n",
    "    print(chunks[i])\n",
    "print(\"...\")\n",
    "for i in range(len(chunks) - 10, len(chunks)):\n",
    "    print(chunks[i])"
   ]
  },
  {
   "cell_type": "code",
   "execution_count": 52,
   "id": "500172e0",
   "metadata": {},
   "outputs": [
    {
     "name": "stdout",
     "output_type": "stream",
     "text": [
      "Chunk 1: [0, 15]\n",
      "Chunk 2: [0, 13]\n",
      "Chunk 3: [9, 1]\n",
      "Chunk 4: [15, 0]\n",
      "Chunk 5: [0, 15]\n",
      "Chunk 6: [0, 15]\n",
      "Chunk 7: [0, 15]\n",
      "Chunk 8: [0, 13]\n",
      "Chunk 9: [11, 1]\n",
      "Chunk 10: [15, 0]\n",
      "Chunk 11: [15, 0]\n",
      "Chunk 12: [1, 14]\n",
      "Chunk 13: [2, 12]\n",
      "Chunk 14: [15, 0]\n",
      "Chunk 15: [14, 1]\n",
      "Chunk 16: [1, 11]\n",
      "Chunk 17: [15, 0]\n",
      "Chunk 18: [15, 0]\n",
      "Chunk 19: [2, 10]\n",
      "Chunk 20: [14, 1]\n"
     ]
    }
   ],
   "source": [
    "def flatten(lst):\n",
    "    result = []\n",
    "    for i in lst:\n",
    "        result.extend(i)\n",
    "    return result\n",
    "\n",
    "chunk_counts = []\n",
    "for chunk in chunks:\n",
    "    flat_chunk = flatten(chunk)\n",
    "    chunk_counts.append([flat_chunk.count(i) for i in range(2)])\n",
    "\n",
    "for i in range(20):\n",
    "    print(f\"Chunk {i + 1}: {chunk_counts[i]}\")"
   ]
  },
  {
   "cell_type": "code",
   "execution_count": 53,
   "id": "1642708b",
   "metadata": {},
   "outputs": [
    {
     "data": {
      "image/png": "[encoded data removed]",
      "text/plain": [
       "<Figure size 1000x1000 with 1 Axes>"
      ]
     },
     "metadata": {},
     "output_type": "display_data"
    }
   ],
   "source": [
    "import matplotlib.pyplot as plt\n",
    "\n",
    "# count の分布をプロット\n",
    "\n",
    "pair_count = {}\n",
    "for pair in chunk_counts:\n",
    "    key = tuple(pair)\n",
    "    if key not in pair_count:\n",
    "        pair_count[key] = 0\n",
    "    pair_count[key] += 1\n",
    "\n",
    "plt.figure(figsize=(10, 10))\n",
    "# scatterで多い点ほど大きく\n",
    "plt.scatter(\n",
    "    [k[0] for k in pair_count.keys()],\n",
    "    [k[1] for k in pair_count.keys()],\n",
    "    s=[v * 10 for v in pair_count.values()],\n",
    "    alpha=0.5\n",
    ")\n",
    "for k, v in pair_count.items():\n",
    "    plt.text(k[0], k[1], str(v), fontsize=8, ha='center', va='center')\n"
   ]
  },
  {
   "cell_type": "code",
   "execution_count": 54,
   "id": "bd2123bc",
   "metadata": {},
   "outputs": [
    {
     "name": "stdout",
     "output_type": "stream",
     "text": [
      "216\n",
      "Chunk 214: [12, 3]  [[1], [1], [0], [0], [0], [0], [0], [1], [0], [0], [0], [0], [0], [0], [0]]\n",
      "Chunk 215: [7, 0]   [[0], [0], [0], [0], [0], [0], [0], [], [], [], [], [], [], [], []]\n",
      "Chunk 216: [0, 2]   [[], [], [], [], [], [], [], [1], [1], [], [], [], [], [], []]\n",
      "Chunk 217: [12, 0]  [[], [], [0], [], [0], [0], [0], [0], [0], [0], [0], [0], [0], [0], [0]]\n",
      "Chunk 218: [13, 2]  [[0], [0], [0], [0], [0], [0], [0], [0], [0], [0], [0], [0], [0], [1], [1]]\n",
      "-----\n",
      "Total errors: 1\n"
     ]
    }
   ],
   "source": [
    "def print_surrounding(idx):\n",
    "    print(f\"{idx + 1}\")\n",
    "    for j in range(-2, 3):\n",
    "        k = idx + j\n",
    "        if 0 <= k < len(chunks):\n",
    "            print(f\"Chunk {k + 1}: {str(chunk_counts[k]):<8} {chunks[k]}\")\n",
    "    \n",
    "\n",
    "errors = 0\n",
    "for idx, count in enumerate(chunk_counts):\n",
    "    if max(count) < 5 or min(count) * 1.5 >= max(count):\n",
    "        print_surrounding(idx)\n",
    "        print(\"-----\")\n",
    "        errors += 1\n",
    "print(f\"Total errors: {errors}\")\n"
   ]
  },
  {
   "cell_type": "code",
   "execution_count": 57,
   "id": "fc6b02c4",
   "metadata": {},
   "outputs": [
    {
     "name": "stdout",
     "output_type": "stream",
     "text": [
      "1100 第1/2種開始信号\n",
      "1111000110010010 第2種開始信号\n",
      "10 \n",
      "001101001101 地域共通\n",
      "00 \n",
      "1111000110010010 第2種開始信号\n",
      "010 \n",
      "00001 16日\n",
      "0 今日\n",
      "10001 1月\n",
      "00 \n",
      "111"
     ]
    },
    {
     "ename": "ValueError",
     "evalue": "Unexpected year_time_code_head: 111",
     "output_type": "error",
     "traceback": [
      "\u001b[31m---------------------------------------------------------------------------\u001b[39m",
      "\u001b[31mValueError\u001b[39m                                Traceback (most recent call last)",
      "\u001b[36mCell\u001b[39m\u001b[36m \u001b[39m\u001b[32mIn[57]\u001b[39m\u001b[32m, line 8\u001b[39m\n\u001b[32m      6\u001b[39m bit = \u001b[38;5;28mstr\u001b[39m(count.index(\u001b[38;5;28mmax\u001b[39m(count)))\n\u001b[32m      7\u001b[39m \u001b[38;5;28mprint\u001b[39m(bit, end=\u001b[33m\"\u001b[39m\u001b[33m\"\u001b[39m)\n\u001b[32m----> \u001b[39m\u001b[32m8\u001b[39m res = \u001b[43mdecoder\u001b[49m\u001b[43m.\u001b[49m\u001b[43msend\u001b[49m\u001b[43m(\u001b[49m\u001b[43mbit\u001b[49m\u001b[43m)\u001b[49m\n\u001b[32m      9\u001b[39m \u001b[38;5;28;01mif\u001b[39;00m res \u001b[38;5;129;01mis\u001b[39;00m \u001b[38;5;129;01mnot\u001b[39;00m \u001b[38;5;28;01mNone\u001b[39;00m:\n\u001b[32m     10\u001b[39m     \u001b[38;5;28mprint\u001b[39m(\u001b[33m\"\u001b[39m\u001b[33m\"\u001b[39m, res)\n",
      "\u001b[36mFile \u001b[39m\u001b[32mc:\\Users\\takuma\\Desktop\\misc\\ews_decoder\\ews_decoder.py:274\u001b[39m, in \u001b[36mEWSDecoder.decode\u001b[39m\u001b[34m(cls)\u001b[39m\n\u001b[32m    272\u001b[39m year_time_code_head = \u001b[38;5;28;01myield from\u001b[39;00m \u001b[38;5;28mcls\u001b[39m.receive_n_bits(last_output, \u001b[32m3\u001b[39m)\n\u001b[32m    273\u001b[39m \u001b[38;5;28;01mif\u001b[39;00m year_time_code_head != (\u001b[33m\"\u001b[39m\u001b[33m100\u001b[39m\u001b[33m\"\u001b[39m \u001b[38;5;28;01mif\u001b[39;00m is_end \u001b[38;5;28;01melse\u001b[39;00m \u001b[33m\"\u001b[39m\u001b[33m011\u001b[39m\u001b[33m\"\u001b[39m):\n\u001b[32m--> \u001b[39m\u001b[32m274\u001b[39m     \u001b[38;5;28;01mraise\u001b[39;00m \u001b[38;5;167;01mValueError\u001b[39;00m(\n\u001b[32m    275\u001b[39m         \u001b[33mf\u001b[39m\u001b[33m\"\u001b[39m\u001b[33mUnexpected year_time_code_head: \u001b[39m\u001b[38;5;132;01m{\u001b[39;00myear_time_code_head\u001b[38;5;132;01m}\u001b[39;00m\u001b[33m\"\u001b[39m\n\u001b[32m    276\u001b[39m     )\n\u001b[32m    277\u001b[39m last_output = \u001b[33m\"\u001b[39m\u001b[33m\"\u001b[39m\n\u001b[32m    279\u001b[39m time_code = \u001b[38;5;28;01myield from\u001b[39;00m \u001b[38;5;28mcls\u001b[39m.receive_n_bits(last_output, \u001b[32m5\u001b[39m)\n",
      "\u001b[31mValueError\u001b[39m: Unexpected year_time_code_head: 111"
     ]
    }
   ],
   "source": [
    "from ews_decoder import EWSDecoder\n",
    "decoder = EWSDecoder().decode()\n",
    "decoder.__next__()\n",
    "\n",
    "for count in chunk_counts:\n",
    "    bit = str(count.index(max(count)))\n",
    "    print(bit, end=\"\")\n",
    "    res = decoder.send(bit)\n",
    "    if res is not None:\n",
    "        print(\"\", res)"
   ]
  }
 ],
 "metadata": {
  "kernelspec": {
   "display_name": ".venv",
   "language": "python",
   "name": "python3"
  },
  "language_info": {
   "codemirror_mode": {
    "name": "ipython",
    "version": 3
   },
   "file_extension": ".py",
   "mimetype": "text/x-python",
   "name": "python",
   "nbconvert_exporter": "python",
   "pygments_lexer": "ipython3",
   "version": "3.12.10"
  }
 },
 "nbformat": 4,
 "nbformat_minor": 5
}
