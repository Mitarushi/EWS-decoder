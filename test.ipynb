{
 "cells": [
  {
   "cell_type": "code",
   "execution_count": 5,
   "id": "249902b8",
   "metadata": {},
   "outputs": [
    {
     "name": "stdout",
     "output_type": "stream",
     "text": [
      "Real part: -6.513146\n",
      "Imaginary part: -18.942048\n"
     ]
    }
   ],
   "source": [
    "import cmath\n",
    "import math\n",
    "\n",
    "s = -0.05\n",
    "w = 10.0\n",
    "a = 2.0\n",
    "h = 1.9\n",
    "\n",
    "i = -a/2 * (cmath.exp(1j * h) / (s + 2j * w) + cmath.exp(-1j * h) / s)\n",
    "real = i.real\n",
    "imag = i.imag\n",
    "print(f\"Real part: {real:.6f}\")\n",
    "print(f\"Imaginary part: {imag:.6f}\")"
   ]
  },
  {
   "cell_type": "code",
   "execution_count": 6,
   "id": "d9e22919",
   "metadata": {},
   "outputs": [
    {
     "name": "stdout",
     "output_type": "stream",
     "text": [
      "Estimated a: 2.000000\n"
     ]
    }
   ],
   "source": [
    "a_est = abs(s) / w**2 * math.sqrt(w**2 * (2 * w * real + s * imag) ** 2 + (s * w * real + imag * (s ** 2 + 2 * w ** 2)) ** 2)\n",
    "print(f\"Estimated a: {a_est:.6f}\")"
   ]
  },
  {
   "cell_type": "code",
   "execution_count": 7,
   "id": "b8ae21d7",
   "metadata": {},
   "outputs": [
    {
     "name": "stdout",
     "output_type": "stream",
     "text": [
      "Estimated a (method 2): 2.000000\n"
     ]
    }
   ],
   "source": [
    "r = s / w\n",
    "a_est2 = abs(s) * math.sqrt((2 * real + imag * r) ** 2 + (real * r + imag * (r ** 2 + 2)) ** 2)\n",
    "print(f\"Estimated a (method 2): {a_est2:.6f}\")"
   ]
  },
  {
   "cell_type": "code",
   "execution_count": null,
   "id": "af51af08",
   "metadata": {},
   "outputs": [],
   "source": []
  }
 ],
 "metadata": {
  "kernelspec": {
   "display_name": ".venv",
   "language": "python",
   "name": "python3"
  },
  "language_info": {
   "codemirror_mode": {
    "name": "ipython",
    "version": 3
   },
   "file_extension": ".py",
   "mimetype": "text/x-python",
   "name": "python",
   "nbconvert_exporter": "python",
   "pygments_lexer": "ipython3",
   "version": "3.12.10"
  }
 },
 "nbformat": 4,
 "nbformat_minor": 5
}
