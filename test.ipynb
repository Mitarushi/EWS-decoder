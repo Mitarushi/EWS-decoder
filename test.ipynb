{
 "cells": [
  {
   "cell_type": "code",
   "execution_count": 5,
   "id": "249902b8",
   "metadata": {},
   "outputs": [
    {
     "name": "stdout",
     "output_type": "stream",
     "text": [
      "Real part: -6.513146\n",
      "Imaginary part: -18.942048\n"
     ]
    }
   ],
   "source": [
    "import cmath\n",
    "import math\n",
    "\n",
    "s = -0.05\n",
    "w = 10.0\n",
    "a = 2.0\n",
    "h = 1.9\n",
    "\n",
    "i = -a/2 * (cmath.exp(1j * h) / (s + 2j * w) + cmath.exp(-1j * h) / s)\n",
    "real = i.real\n",
    "imag = i.imag\n",
    "print(f\"Real part: {real:.6f}\")\n",
    "print(f\"Imaginary part: {imag:.6f}\")"
   ]
  },
  {
   "cell_type": "code",
   "execution_count": 6,
   "id": "d9e22919",
   "metadata": {},
   "outputs": [
    {
     "name": "stdout",
     "output_type": "stream",
     "text": [
      "Estimated a: 2.000000\n"
     ]
    }
   ],
   "source": [
    "a_est = abs(s) / w**2 * math.sqrt(w**2 * (2 * w * real + s * imag) ** 2 + (s * w * real + imag * (s ** 2 + 2 * w ** 2)) ** 2)\n",
    "print(f\"Estimated a: {a_est:.6f}\")"
   ]
  },
  {
   "cell_type": "code",
   "execution_count": 7,
   "id": "b8ae21d7",
   "metadata": {},
   "outputs": [
    {
     "name": "stdout",
     "output_type": "stream",
     "text": [
      "Estimated a (method 2): 2.000000\n"
     ]
    }
   ],
   "source": [
    "r = s / w\n",
    "a_est2 = abs(s) * math.sqrt((2 * real + imag * r) ** 2 + (real * r + imag * (r ** 2 + 2)) ** 2)\n",
    "print(f\"Estimated a (method 2): {a_est2:.6f}\")"
   ]
  },
  {
   "cell_type": "code",
   "execution_count": 6,
   "id": "af51af08",
   "metadata": {},
   "outputs": [
    {
     "name": "stdout",
     "output_type": "stream",
     "text": [
      "[['昭和60年', '10101'], ['昭和61年', '01101'], ['昭和62年', '11101'], ['昭和63年', '00011'], ['昭和64年', '10011'], ['昭和65年', '01011'], ['昭和66年', '10001'], ['昭和67年', '01001'], ['昭和68年', '11001'], ['昭和69年', '00101']]\n",
      "\"10101\",\n",
      "\"01101\",\n",
      "\"11101\",\n",
      "\"00011\",\n",
      "\"10011\",\n",
      "\"01011\",\n",
      "\"10001\",\n",
      "\"01001\",\n",
      "\"11001\",\n",
      "\"00101\",\n"
     ]
    }
   ],
   "source": [
    "# 符号の変換\n",
    "\n",
    "code = \"\"\"\n",
    "昭和60年\n",
    "1\n",
    "0\n",
    "1\n",
    "0\n",
    "1\n",
    "昭和61年\n",
    "0\n",
    "1\n",
    "1\n",
    "0\n",
    "1\n",
    "昭和62年\n",
    "1\n",
    "1\n",
    "1\n",
    "0\n",
    "1\n",
    "昭和63年\n",
    "0\n",
    "0\n",
    "0\n",
    "1\n",
    "1\n",
    "昭和64年\n",
    "1\n",
    "0\n",
    "0\n",
    "1\n",
    "1\n",
    "昭和65年\n",
    "0\n",
    "1\n",
    "0\n",
    "1\n",
    "1\n",
    "昭和66年\n",
    "1\n",
    "0\n",
    "0\n",
    "0\n",
    "1\n",
    "昭和67年\n",
    "0\n",
    "1\n",
    "0\n",
    "0\n",
    "1\n",
    "昭和68年\n",
    "1\n",
    "1\n",
    "0\n",
    "0\n",
    "1\n",
    "昭和69年\n",
    "0\n",
    "0\n",
    "1\n",
    "0\n",
    "1\"\"\"\n",
    "lines = []\n",
    "for line in code.strip().split('\\n'):\n",
    "    if line not in ('0', '1'):\n",
    "        lines.append([line, \"\"])\n",
    "    else:\n",
    "        lines[-1][-1] += line\n",
    "print(lines)\n",
    "\n",
    "# for v, k in lines: \n",
    "#     print(f\"\\\"{k}\\\": \\\"{v}\\\",\")\n",
    "for _, k in lines:\n",
    "    print(f\"\\\"{k}\\\",\")"
   ]
  }
 ],
 "metadata": {
  "kernelspec": {
   "display_name": ".venv",
   "language": "python",
   "name": "python3"
  },
  "language_info": {
   "codemirror_mode": {
    "name": "ipython",
    "version": 3
   },
   "file_extension": ".py",
   "mimetype": "text/x-python",
   "name": "python",
   "nbconvert_exporter": "python",
   "pygments_lexer": "ipython3",
   "version": "3.12.10"
  }
 },
 "nbformat": 4,
 "nbformat_minor": 5
}
